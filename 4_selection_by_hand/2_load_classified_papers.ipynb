{
 "cells": [
  {
   "cell_type": "markdown",
   "id": "658755ba",
   "metadata": {},
   "source": [
    "# Post-processing the classified papers\n",
    "\n",
    "All selected papers have been classified as follows: tool creation/no tool creation, for AI/not for AI. This file permits to load the classified papers and postprocess the classification.\n",
    "\n",
    "Papers will then be submitted to the data extraction phase. Depending on the classification, the data extraction will differ. We will thus treat differently four groups of papers:\n",
    "1. tool creation & for AI\n",
    "2. no tool creation & for AI\n",
    "3. tool creation & not for AI\n",
    "4. no tool creation & not for AI\n",
    "\n",
    "***\n",
    "\n",
    "**Importing libraries:**"
   ]
  },
  {
   "cell_type": "code",
   "execution_count": 1,
   "id": "0694ca12",
   "metadata": {},
   "outputs": [],
   "source": [
    "import pandas as pd\n",
    "import os\n",
    "import json\n",
    "import re\n",
    "from pprint import pprint\n",
    "from collections import Counter\n",
    "import xlsxwriter"
   ]
  },
  {
   "cell_type": "markdown",
   "id": "ba17e781",
   "metadata": {},
   "source": [
    "**Usefull funtions:**"
   ]
  },
  {
   "cell_type": "code",
   "execution_count": 2,
   "id": "2ec3a9db",
   "metadata": {},
   "outputs": [],
   "source": [
    "def subset_and_shuffle(df_classified, tool_creation, for_AI):\n",
    "    \n",
    "    df = df_classified[df_classified['for_AI'] == for_AI]\n",
    "    df = df[df['tool_creation'] == tool_creation]\n",
    "    df = df[['id', 'title', 'pub_info', 'date', 'link']]\n",
    "    df = df.reset_index(drop=True)\n",
    "\n",
    "    for i, row in df.iterrows():\n",
    "        df.loc[i, 'full_text_id'] = row['pub_info'].split(',')[0].lower()+str(row['date'])\n",
    "\n",
    "    # Shuffle the papers' order:\n",
    "    df_shuffled = df.sample(frac=1)\n",
    "    df_shuffled = df_shuffled.reset_index(drop=True)\n",
    "    \n",
    "    return df_shuffled\n",
    "\n",
    "\n",
    "def create_excel(file_name, df_save):\n",
    "\n",
    "    # Create an Excel workbook and worksheet:\n",
    "    workbook = xlsxwriter.Workbook(file_name)\n",
    "    worksheet = workbook.add_worksheet()\n",
    "\n",
    "    # Write the headers:\n",
    "    headers = list(df_save.columns)\n",
    "    for col_num, header in enumerate(headers):\n",
    "        worksheet.write(0, col_num, header)\n",
    "\n",
    "    # Write the data:\n",
    "    for row_num, row_data in enumerate(df_save.values):\n",
    "        for col_num, cell_data in enumerate(row_data):\n",
    "            cell_data = cell_data if cell_data == cell_data else \"\"\n",
    "            worksheet.write(row_num+1, col_num, cell_data)\n",
    "\n",
    "    # Save the Excel file:\n",
    "    workbook.close()"
   ]
  },
  {
   "cell_type": "markdown",
   "id": "3ca195bc",
   "metadata": {},
   "source": [
    "## 1. Load classified papers"
   ]
  },
  {
   "cell_type": "code",
   "execution_count": 3,
   "id": "44756691",
   "metadata": {
    "scrolled": true
   },
   "outputs": [],
   "source": [
    "_path_classified = os.path.join('selected_analysis_2023_09_13.xlsx')\n",
    "usecols = ['id', 'title', 'link', 'date', 'pub_info',\n",
    "       'tool_creation', 'for_AI']\n",
    "df_classified = pd.DataFrame(pd.read_excel(_path_classified, usecols = usecols))"
   ]
  },
  {
   "cell_type": "markdown",
   "id": "b989603a",
   "metadata": {},
   "source": [
    "## 2. The Yes-Yes (YY) papers: tool creation & for AI"
   ]
  },
  {
   "cell_type": "code",
   "execution_count": 4,
   "id": "84714a84",
   "metadata": {},
   "outputs": [
    {
     "name": "stdout",
     "output_type": "stream",
     "text": [
      "Number of YY papers:  26\n"
     ]
    }
   ],
   "source": [
    "# extract and shuffle YY papers\n",
    "df_YY = subset_and_shuffle(df_classified, \"yes\", \"yes\")\n",
    "\n",
    "first_rows = [311, 393, 1891, 339, 340] # papers that have already been assigned and treated\n",
    "df_1 = df_YY[df_YY['id'].isin(first_rows) == False] # papers not yet treated\n",
    "\n",
    "# concatenate both sets of papers (treated/not treated):\n",
    "df_YY = pd.concat([df_YY[df_YY['id'] == 311],\n",
    "                    df_YY[df_YY['id'] == 393],\n",
    "                    df_YY[df_YY['id'] == 1891],\n",
    "                    df_YY[df_YY['id'] == 339],\n",
    "                    df_YY[df_YY['id'] == 340],\n",
    "                    df_1], axis = 0)\n",
    "\n",
    "df_YY = df_YY.reset_index(drop=True)\n",
    "\n",
    "# assign reviewers:\n",
    "reviewers = ['Laura']*12 + ['Charlotte']*10 + ['Zhuangzhuang']*4\n",
    "df_YY = pd.concat([df_YY.copy(deep=True), \n",
    "                    pd.DataFrame(reviewers, columns=['reviewer'])], axis=1)\n",
    "print(\"Number of YY papers: \", df_YY.shape[0])\n",
    "\n",
    "# for header of data extraction form\n",
    "create_excel('test0.xlsx', df_YY.T)\n",
    "\n",
    "# for tracking\n",
    "create_excel('test1.xlsx', df_YY)"
   ]
  },
  {
   "cell_type": "markdown",
   "id": "1ff32af0",
   "metadata": {},
   "source": [
    "## 3. The No-Yes (NY) papers: no tool creation & for AI"
   ]
  },
  {
   "cell_type": "code",
   "execution_count": 5,
   "id": "348835f2",
   "metadata": {},
   "outputs": [
    {
     "name": "stdout",
     "output_type": "stream",
     "text": [
      "Number of NY papers:  29\n"
     ]
    }
   ],
   "source": [
    "# extract and shuffle NY papers:\n",
    "df_NY = subset_and_shuffle(df_classified, \"no\", \"yes\") # extract NY papers\n",
    "print(\"Number of NY papers: \", df_NY.shape[0])\n",
    "\n",
    "# assign reviewers:\n",
    "reviewers = ['Laura']*2 + ['Charlotte']*13 + ['Zhuangzhuang']*13\n",
    "df_NY = pd.concat([df_NY.copy(deep=True), \n",
    "                    pd.DataFrame(reviewers, columns=['reviewer'])], axis=1)\n",
    "\n",
    "# for header of data extraction form\n",
    "create_excel('test0.xlsx', df_NY.T)\n",
    "\n",
    "# for tracking\n",
    "create_excel('test1.xlsx', df_NY)"
   ]
  },
  {
   "cell_type": "markdown",
   "id": "f4c82d7f",
   "metadata": {},
   "source": [
    "## 4. The Yes-No (YN) papers: tool creation & for AI"
   ]
  },
  {
   "cell_type": "code",
   "execution_count": 6,
   "id": "04427dc1",
   "metadata": {},
   "outputs": [
    {
     "name": "stdout",
     "output_type": "stream",
     "text": [
      "Number of YN papers:  70\n"
     ]
    }
   ],
   "source": [
    "# extract and shuffle YN papers:\n",
    "df_YN = subset_and_shuffle(df_classified, \"yes\", \"no\") # extract YN papers\n",
    "print(\"Number of YN papers: \", df_YN.shape[0])\n",
    "\n",
    "# assign reviewers:\n",
    "reviewers = ['Laura']*20 + ['Charlotte']*25 + ['Zhuangzhuang']*25\n",
    "df_YN = pd.concat([df_YN.copy(deep=True), \n",
    "                    pd.DataFrame(reviewers, columns=['reviewer'])], axis=1)\n",
    "\n",
    "# for header of data extraction form\n",
    "create_excel('test0.xlsx', df_YN.T)\n",
    "\n",
    "# for tracking\n",
    "create_excel('test1.xlsx', df_YN)"
   ]
  },
  {
   "cell_type": "markdown",
   "id": "7f94b734",
   "metadata": {},
   "source": [
    "## 5. Surveys"
   ]
  },
  {
   "cell_type": "code",
   "execution_count": 7,
   "id": "6862951b",
   "metadata": {},
   "outputs": [
    {
     "name": "stdout",
     "output_type": "stream",
     "text": [
      "Number of SN papers:  7\n",
      "Number of SY papers:  3\n"
     ]
    }
   ],
   "source": [
    "# extract and shuffle SN papers:\n",
    "df_SN = subset_and_shuffle(df_classified, \"no - survey\", \"no\") # extract YN papers\n",
    "print(\"Number of SN papers: \", df_SN.shape[0])\n",
    "# for header of data extraction form\n",
    "create_excel('test0.xlsx', df_SN.T)\n",
    "# for tracking\n",
    "create_excel('test1.xlsx', df_SN)\n",
    "\n",
    "# extract and shuffle SY papers:\n",
    "df_SY = subset_and_shuffle(df_classified, \"no - survey\", \"yes\") # extract YN papers\n",
    "print(\"Number of SY papers: \", df_SY.shape[0])\n",
    "# for header of data extraction form\n",
    "create_excel('test0.xlsx', df_SY.T)\n",
    "# for tracking\n",
    "create_excel('test1.xlsx', df_SY)"
   ]
  },
  {
   "cell_type": "code",
   "execution_count": 8,
   "id": "d8afe446",
   "metadata": {
    "scrolled": true
   },
   "outputs": [
    {
     "data": {
      "text/html": [
       "<div>\n",
       "<style scoped>\n",
       "    .dataframe tbody tr th:only-of-type {\n",
       "        vertical-align: middle;\n",
       "    }\n",
       "\n",
       "    .dataframe tbody tr th {\n",
       "        vertical-align: top;\n",
       "    }\n",
       "\n",
       "    .dataframe thead th {\n",
       "        text-align: right;\n",
       "    }\n",
       "</style>\n",
       "<table border=\"1\" class=\"dataframe\">\n",
       "  <thead>\n",
       "    <tr style=\"text-align: right;\">\n",
       "      <th></th>\n",
       "      <th>id</th>\n",
       "      <th>title</th>\n",
       "      <th>pub_info</th>\n",
       "      <th>date</th>\n",
       "      <th>link</th>\n",
       "      <th>full_text_id</th>\n",
       "    </tr>\n",
       "  </thead>\n",
       "  <tbody>\n",
       "    <tr>\n",
       "      <th>0</th>\n",
       "      <td>2050</td>\n",
       "      <td>Survey of approaches for assessing software en...</td>\n",
       "      <td>Rieger, Felix, and Christoph Bockisch.In Proce...</td>\n",
       "      <td>2017</td>\n",
       "      <td>https://dl.acm.org/doi/abs/10.1145/3141842.314...</td>\n",
       "      <td>rieger2017</td>\n",
       "    </tr>\n",
       "    <tr>\n",
       "      <th>1</th>\n",
       "      <td>2673</td>\n",
       "      <td>An experimental comparison of software-based p...</td>\n",
       "      <td>Jay, Mathilde; Ostapenco, Vladimir; Lefevre, L...</td>\n",
       "      <td>2023</td>\n",
       "      <td>https://ieeexplore.ieee.org/document/10171575/</td>\n",
       "      <td>jay2023</td>\n",
       "    </tr>\n",
       "    <tr>\n",
       "      <th>2</th>\n",
       "      <td>2671</td>\n",
       "      <td>A Comparative Study of Methods for Measurement...</td>\n",
       "      <td>Fahad, Muhammad; Shahid, Arsalan; Manumachu, R...</td>\n",
       "      <td>2019</td>\n",
       "      <td>https://www.mdpi.com/1996-1073/12/11/2204</td>\n",
       "      <td>fahad2019</td>\n",
       "    </tr>\n",
       "    <tr>\n",
       "      <th>3</th>\n",
       "      <td>2551</td>\n",
       "      <td>Power Consumption Estimation Models for Proces...</td>\n",
       "      <td>Mobius, IEEE Transactions on Parallel and Dist...</td>\n",
       "      <td>2014</td>\n",
       "      <td>https://ieeexplore.ieee.org/stamp/stamp.jsp?ar...</td>\n",
       "      <td>mobius2014</td>\n",
       "    </tr>\n",
       "    <tr>\n",
       "      <th>4</th>\n",
       "      <td>2672</td>\n",
       "      <td>A review of energy measurement approaches</td>\n",
       "      <td>Noureddine, Adel; Rouvoy, Romain; Seinturier, ...</td>\n",
       "      <td>2013</td>\n",
       "      <td>https://dl.acm.org/doi/10.1145/2553070.2553077</td>\n",
       "      <td>noureddine2013</td>\n",
       "    </tr>\n",
       "    <tr>\n",
       "      <th>5</th>\n",
       "      <td>2041</td>\n",
       "      <td>Metrics of energy consumption in software syst...</td>\n",
       "      <td>Ergasheva, Shokhista, I. Khomyakov, A. Kruglov...</td>\n",
       "      <td>2020</td>\n",
       "      <td>https://iopscience.iop.org/article/10.1088/175...</td>\n",
       "      <td>ergasheva2020</td>\n",
       "    </tr>\n",
       "    <tr>\n",
       "      <th>6</th>\n",
       "      <td>1992</td>\n",
       "      <td>Tools for Measuring and Monitoring the Energy ...</td>\n",
       "      <td>Pijnacker, Bjorn, Jesper van der Zwaag, and Ju...</td>\n",
       "      <td>2023</td>\n",
       "      <td>https://julianpasveer.com/Rapid_Review__Which_...</td>\n",
       "      <td>pijnacker2023</td>\n",
       "    </tr>\n",
       "  </tbody>\n",
       "</table>\n",
       "</div>"
      ],
      "text/plain": [
       "     id                                              title   \n",
       "0  2050  Survey of approaches for assessing software en...  \\\n",
       "1  2673  An experimental comparison of software-based p...   \n",
       "2  2671  A Comparative Study of Methods for Measurement...   \n",
       "3  2551  Power Consumption Estimation Models for Proces...   \n",
       "4  2672          A review of energy measurement approaches   \n",
       "5  2041  Metrics of energy consumption in software syst...   \n",
       "6  1992  Tools for Measuring and Monitoring the Energy ...   \n",
       "\n",
       "                                            pub_info  date   \n",
       "0  Rieger, Felix, and Christoph Bockisch.In Proce...  2017  \\\n",
       "1  Jay, Mathilde; Ostapenco, Vladimir; Lefevre, L...  2023   \n",
       "2  Fahad, Muhammad; Shahid, Arsalan; Manumachu, R...  2019   \n",
       "3  Mobius, IEEE Transactions on Parallel and Dist...  2014   \n",
       "4  Noureddine, Adel; Rouvoy, Romain; Seinturier, ...  2013   \n",
       "5  Ergasheva, Shokhista, I. Khomyakov, A. Kruglov...  2020   \n",
       "6  Pijnacker, Bjorn, Jesper van der Zwaag, and Ju...  2023   \n",
       "\n",
       "                                                link    full_text_id  \n",
       "0  https://dl.acm.org/doi/abs/10.1145/3141842.314...      rieger2017  \n",
       "1     https://ieeexplore.ieee.org/document/10171575/         jay2023  \n",
       "2          https://www.mdpi.com/1996-1073/12/11/2204       fahad2019  \n",
       "3  https://ieeexplore.ieee.org/stamp/stamp.jsp?ar...      mobius2014  \n",
       "4     https://dl.acm.org/doi/10.1145/2553070.2553077  noureddine2013  \n",
       "5  https://iopscience.iop.org/article/10.1088/175...   ergasheva2020  \n",
       "6  https://julianpasveer.com/Rapid_Review__Which_...   pijnacker2023  "
      ]
     },
     "execution_count": 8,
     "metadata": {},
     "output_type": "execute_result"
    }
   ],
   "source": [
    "df_SN"
   ]
  },
  {
   "cell_type": "code",
   "execution_count": 9,
   "id": "969e7149",
   "metadata": {
    "scrolled": true
   },
   "outputs": [
    {
     "data": {
      "text/html": [
       "<div>\n",
       "<style scoped>\n",
       "    .dataframe tbody tr th:only-of-type {\n",
       "        vertical-align: middle;\n",
       "    }\n",
       "\n",
       "    .dataframe tbody tr th {\n",
       "        vertical-align: top;\n",
       "    }\n",
       "\n",
       "    .dataframe thead th {\n",
       "        text-align: right;\n",
       "    }\n",
       "</style>\n",
       "<table border=\"1\" class=\"dataframe\">\n",
       "  <thead>\n",
       "    <tr style=\"text-align: right;\">\n",
       "      <th></th>\n",
       "      <th>id</th>\n",
       "      <th>title</th>\n",
       "      <th>pub_info</th>\n",
       "      <th>date</th>\n",
       "      <th>link</th>\n",
       "      <th>full_text_id</th>\n",
       "    </tr>\n",
       "  </thead>\n",
       "  <tbody>\n",
       "    <tr>\n",
       "      <th>0</th>\n",
       "      <td>1</td>\n",
       "      <td>Estimation of energy consumption in machine le...</td>\n",
       "      <td>García-Martín, Eva, Crefeda Faviola Rodrigues,...</td>\n",
       "      <td>2019</td>\n",
       "      <td>https://www.sciencedirect.com/science/article/...</td>\n",
       "      <td>garcía-martín2019</td>\n",
       "    </tr>\n",
       "    <tr>\n",
       "      <th>1</th>\n",
       "      <td>4</td>\n",
       "      <td>How to measure energy consumption in machine l...</td>\n",
       "      <td>García-Martín, Eva, Niklas Lavesson, Håkan Gra...</td>\n",
       "      <td>2019</td>\n",
       "      <td>https://link.springer.com/chapter/10.1007/978-...</td>\n",
       "      <td>garcía-martín2019</td>\n",
       "    </tr>\n",
       "    <tr>\n",
       "      <th>2</th>\n",
       "      <td>1162</td>\n",
       "      <td>Evaluating the carbon footprint of NLP methods...</td>\n",
       "      <td>Bannour, Nesrine, Sahar Ghannay, Aurélie Névéo...</td>\n",
       "      <td>2021</td>\n",
       "      <td>https://aclanthology.org/2021.sustainlp-1.2/</td>\n",
       "      <td>bannour2021</td>\n",
       "    </tr>\n",
       "  </tbody>\n",
       "</table>\n",
       "</div>"
      ],
      "text/plain": [
       "     id                                              title   \n",
       "0     1  Estimation of energy consumption in machine le...  \\\n",
       "1     4  How to measure energy consumption in machine l...   \n",
       "2  1162  Evaluating the carbon footprint of NLP methods...   \n",
       "\n",
       "                                            pub_info  date   \n",
       "0  García-Martín, Eva, Crefeda Faviola Rodrigues,...  2019  \\\n",
       "1  García-Martín, Eva, Niklas Lavesson, Håkan Gra...  2019   \n",
       "2  Bannour, Nesrine, Sahar Ghannay, Aurélie Névéo...  2021   \n",
       "\n",
       "                                                link       full_text_id  \n",
       "0  https://www.sciencedirect.com/science/article/...  garcía-martín2019  \n",
       "1  https://link.springer.com/chapter/10.1007/978-...  garcía-martín2019  \n",
       "2       https://aclanthology.org/2021.sustainlp-1.2/        bannour2021  "
      ]
     },
     "execution_count": 9,
     "metadata": {},
     "output_type": "execute_result"
    }
   ],
   "source": [
    "df_SY"
   ]
  }
 ],
 "metadata": {
  "kernelspec": {
   "display_name": "venv_SLR",
   "language": "python",
   "name": "python3"
  },
  "language_info": {
   "codemirror_mode": {
    "name": "ipython",
    "version": 3
   },
   "file_extension": ".py",
   "mimetype": "text/x-python",
   "name": "python",
   "nbconvert_exporter": "python",
   "pygments_lexer": "ipython3",
   "version": "3.10.8"
  }
 },
 "nbformat": 4,
 "nbformat_minor": 5
}
