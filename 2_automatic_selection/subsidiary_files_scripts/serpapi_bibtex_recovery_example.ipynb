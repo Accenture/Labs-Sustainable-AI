{
 "cells": [
  {
   "cell_type": "code",
   "execution_count": 1,
   "id": "264039a0",
   "metadata": {},
   "outputs": [],
   "source": [
    "from serpapi import GoogleSearch\n",
    "from urllib.parse import urlsplit, parse_qsl\n",
    "import pandas as pd\n",
    "import os\n",
    "import json\n",
    "import requests"
   ]
  },
  {
   "cell_type": "code",
   "execution_count": 7,
   "id": "5db8b122",
   "metadata": {},
   "outputs": [
    {
     "name": "stdout",
     "output_type": "stream",
     "text": [
      "Article:  García-Martín, Eva, Crefeda Faviola Rodrigues, Graham Riley, and Håkan Grahn. \"Estimation of energy consumption in machine learning.\" Journal of Parallel and Distributed Computing 134 (2019): 75-88.\n",
      "Bibtex link:  https://scholar.googleusercontent.com/scholar.bib?q=info:dlyzfK7ViPAJ:scholar.google.com/&output=citation&scisdr=ChUueaTYGAA:ABFrs3wAAAAAZLZfEoh2Jf7mI48EnId452Fs_BY&scisig=ABFrs3wAAAAAZLZfEt0rSP79rid0pwRrULw21KI&scisf=4&ct=citation&cd=-1&hl=en\n",
      "Bibtex link output:\n",
      "<!DOCTYPE html><html lang=en><meta charset=utf-8><meta name=viewport content=\"initial-scale=1, minimum-scale=1, width=device-width\"><title>Error 403 (Forbidden)!!1</title><style>*{margin:0;padding:0}html,code{font:15px/22px arial,sans-serif}html{background:#fff;color:#222;padding:15px}body{margin:7% auto 0;max-width:390px;min-height:180px;padding:30px 0 15px}* > body{background:url(//www.google.com/images/errors/robot.png) 100% 5px no-repeat;padding-right:205px}p{margin:11px 0 22px;overflow:hidden}ins{color:#777;text-decoration:none}a img{border:0}@media screen and (max-width:772px){body{background:none;margin-top:0;max-width:none;padding-right:0}}#logo{background:url(//www.google.com/images/branding/googlelogo/1x/googlelogo_color_150x54dp.png) no-repeat;margin-left:-5px}@media only screen and (min-resolution:192dpi){#logo{background:url(//www.google.com/images/branding/googlelogo/2x/googlelogo_color_150x54dp.png) no-repeat 0% 0%/100% 100%;-moz-border-image:url(//www.google.com/images/branding/googlelogo/2x/googlelogo_color_150x54dp.png) 0}}@media only screen and (-webkit-min-device-pixel-ratio:2){#logo{background:url(//www.google.com/images/branding/googlelogo/2x/googlelogo_color_150x54dp.png) no-repeat;-webkit-background-size:100% 100%}}#logo{display:inline-block;height:54px;width:150px}</style><a href=//www.google.com/><span id=logo aria-label=Google></span></a><p><b>403.</b> <ins>That’s an error.</ins><p>Your client does not have permission to get URL <code>/scholar.bib?q=info:dlyzfK7ViPAJ:scholar.google.com/&amp;output=citation&amp;scisdr=ChUueaTYGAA:ABFrs3wAAAAAZLZfEoh2Jf7mI48EnId452Fs_BY&amp;scisig=ABFrs3wAAAAAZLZfEt0rSP79rid0pwRrULw21KI&amp;scisf=4&amp;ct=citation&amp;cd=-1&amp;hl=en</code> from this server.  (Client IP address: 138.96.220.14)<br><br>\n",
      "Please see Google's Terms of Service posted at https://policies.google.com/terms\n",
      "<BR><BR>\n",
      "                                                                                                                                                                                                                                                                                                                                                                                                                                                                                                                                        \n",
      "  <ins>That’s all we know.</ins>\n"
     ]
    }
   ],
   "source": [
    "params = {\n",
    "  \"engine\": \"google_scholar_cite\",\n",
    "  \"q\": \"dlyzfK7ViPAJ\",\n",
    "  \"api_key\": os.environ['KEY']\n",
    "}\n",
    "search = GoogleSearch(params)\n",
    "results = search.get_dict()\n",
    "\n",
    "citations = {item['title']: item['snippet'] for item in results['citations']}\n",
    "article = citations['Chicago']\n",
    "print(\"Article: \",article)\n",
    "bibtex = results[\"links\"][0][\"link\"]\n",
    "print(\"Bibtex link: \",bibtex)\n",
    "cite_request = requests.get(bibtex)\n",
    "print(\"Bibtex link output:\")\n",
    "print(cite_request.text)"
   ]
  },
  {
   "cell_type": "code",
   "execution_count": null,
   "id": "c1e4c9b6",
   "metadata": {},
   "outputs": [],
   "source": []
  },
  {
   "cell_type": "code",
   "execution_count": null,
   "id": "c196e288",
   "metadata": {},
   "outputs": [],
   "source": []
  }
 ],
 "metadata": {
  "kernelspec": {
   "display_name": "venv_SLR",
   "language": "python",
   "name": "venv_slr"
  },
  "language_info": {
   "codemirror_mode": {
    "name": "ipython",
    "version": 3
   },
   "file_extension": ".py",
   "mimetype": "text/x-python",
   "name": "python",
   "nbconvert_exporter": "python",
   "pygments_lexer": "ipython3",
   "version": "3.9.13"
  }
 },
 "nbformat": 4,
 "nbformat_minor": 5
}
